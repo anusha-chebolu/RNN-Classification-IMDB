{
 "cells": [
  {
   "cell_type": "code",
   "execution_count": 1,
   "metadata": {},
   "outputs": [],
   "source": [
    "import numpy as np\n",
    "import tensorflow as tf\n",
    "from tensorflow.keras.datasets import imdb\n",
    "from tensorflow.keras.preprocessing import sequence\n",
    "from tensorflow.keras.models import load_model\n"
   ]
  },
  {
   "cell_type": "code",
   "execution_count": 2,
   "metadata": {},
   "outputs": [],
   "source": [
    "# Load the IMDB dataset word index\n",
    "\n",
    "word_index = imdb.get_word_index()\n",
    "reverse_word_index = {value: key for key, value in word_index.items()}"
   ]
  },
  {
   "cell_type": "code",
   "execution_count": 3,
   "metadata": {},
   "outputs": [
    {
     "name": "stderr",
     "output_type": "stream",
     "text": [
      "WARNING:absl:Compiled the loaded model, but the compiled metrics have yet to be built. `model.compile_metrics` will be empty until you train or evaluate the model.\n"
     ]
    },
    {
     "data": {
      "text/html": [
       "<pre style=\"white-space:pre;overflow-x:auto;line-height:normal;font-family:Menlo,'DejaVu Sans Mono',consolas,'Courier New',monospace\"><span style=\"font-weight: bold\">Model: \"sequential_1\"</span>\n",
       "</pre>\n"
      ],
      "text/plain": [
       "\u001b[1mModel: \"sequential_1\"\u001b[0m\n"
      ]
     },
     "metadata": {},
     "output_type": "display_data"
    },
    {
     "data": {
      "text/html": [
       "<pre style=\"white-space:pre;overflow-x:auto;line-height:normal;font-family:Menlo,'DejaVu Sans Mono',consolas,'Courier New',monospace\">┏━━━━━━━━━━━━━━━━━━━━━━━━━━━━━━━━━┳━━━━━━━━━━━━━━━━━━━━━━━━┳━━━━━━━━━━━━━━━┓\n",
       "┃<span style=\"font-weight: bold\"> Layer (type)                    </span>┃<span style=\"font-weight: bold\"> Output Shape           </span>┃<span style=\"font-weight: bold\">       Param # </span>┃\n",
       "┡━━━━━━━━━━━━━━━━━━━━━━━━━━━━━━━━━╇━━━━━━━━━━━━━━━━━━━━━━━━╇━━━━━━━━━━━━━━━┩\n",
       "│ embedding (<span style=\"color: #0087ff; text-decoration-color: #0087ff\">Embedding</span>)           │ (<span style=\"color: #00af00; text-decoration-color: #00af00\">32</span>, <span style=\"color: #00af00; text-decoration-color: #00af00\">500</span>, <span style=\"color: #00af00; text-decoration-color: #00af00\">128</span>)         │     <span style=\"color: #00af00; text-decoration-color: #00af00\">1,280,000</span> │\n",
       "├─────────────────────────────────┼────────────────────────┼───────────────┤\n",
       "│ simple_rnn (<span style=\"color: #0087ff; text-decoration-color: #0087ff\">SimpleRNN</span>)          │ (<span style=\"color: #00af00; text-decoration-color: #00af00\">32</span>, <span style=\"color: #00af00; text-decoration-color: #00af00\">128</span>)              │        <span style=\"color: #00af00; text-decoration-color: #00af00\">32,896</span> │\n",
       "├─────────────────────────────────┼────────────────────────┼───────────────┤\n",
       "│ dense (<span style=\"color: #0087ff; text-decoration-color: #0087ff\">Dense</span>)                   │ (<span style=\"color: #00af00; text-decoration-color: #00af00\">32</span>, <span style=\"color: #00af00; text-decoration-color: #00af00\">1</span>)                │           <span style=\"color: #00af00; text-decoration-color: #00af00\">129</span> │\n",
       "└─────────────────────────────────┴────────────────────────┴───────────────┘\n",
       "</pre>\n"
      ],
      "text/plain": [
       "┏━━━━━━━━━━━━━━━━━━━━━━━━━━━━━━━━━┳━━━━━━━━━━━━━━━━━━━━━━━━┳━━━━━━━━━━━━━━━┓\n",
       "┃\u001b[1m \u001b[0m\u001b[1mLayer (type)                   \u001b[0m\u001b[1m \u001b[0m┃\u001b[1m \u001b[0m\u001b[1mOutput Shape          \u001b[0m\u001b[1m \u001b[0m┃\u001b[1m \u001b[0m\u001b[1m      Param #\u001b[0m\u001b[1m \u001b[0m┃\n",
       "┡━━━━━━━━━━━━━━━━━━━━━━━━━━━━━━━━━╇━━━━━━━━━━━━━━━━━━━━━━━━╇━━━━━━━━━━━━━━━┩\n",
       "│ embedding (\u001b[38;5;33mEmbedding\u001b[0m)           │ (\u001b[38;5;34m32\u001b[0m, \u001b[38;5;34m500\u001b[0m, \u001b[38;5;34m128\u001b[0m)         │     \u001b[38;5;34m1,280,000\u001b[0m │\n",
       "├─────────────────────────────────┼────────────────────────┼───────────────┤\n",
       "│ simple_rnn (\u001b[38;5;33mSimpleRNN\u001b[0m)          │ (\u001b[38;5;34m32\u001b[0m, \u001b[38;5;34m128\u001b[0m)              │        \u001b[38;5;34m32,896\u001b[0m │\n",
       "├─────────────────────────────────┼────────────────────────┼───────────────┤\n",
       "│ dense (\u001b[38;5;33mDense\u001b[0m)                   │ (\u001b[38;5;34m32\u001b[0m, \u001b[38;5;34m1\u001b[0m)                │           \u001b[38;5;34m129\u001b[0m │\n",
       "└─────────────────────────────────┴────────────────────────┴───────────────┘\n"
      ]
     },
     "metadata": {},
     "output_type": "display_data"
    },
    {
     "data": {
      "text/html": [
       "<pre style=\"white-space:pre;overflow-x:auto;line-height:normal;font-family:Menlo,'DejaVu Sans Mono',consolas,'Courier New',monospace\"><span style=\"font-weight: bold\"> Total params: </span><span style=\"color: #00af00; text-decoration-color: #00af00\">1,313,027</span> (5.01 MB)\n",
       "</pre>\n"
      ],
      "text/plain": [
       "\u001b[1m Total params: \u001b[0m\u001b[38;5;34m1,313,027\u001b[0m (5.01 MB)\n"
      ]
     },
     "metadata": {},
     "output_type": "display_data"
    },
    {
     "data": {
      "text/html": [
       "<pre style=\"white-space:pre;overflow-x:auto;line-height:normal;font-family:Menlo,'DejaVu Sans Mono',consolas,'Courier New',monospace\"><span style=\"font-weight: bold\"> Trainable params: </span><span style=\"color: #00af00; text-decoration-color: #00af00\">1,313,025</span> (5.01 MB)\n",
       "</pre>\n"
      ],
      "text/plain": [
       "\u001b[1m Trainable params: \u001b[0m\u001b[38;5;34m1,313,025\u001b[0m (5.01 MB)\n"
      ]
     },
     "metadata": {},
     "output_type": "display_data"
    },
    {
     "data": {
      "text/html": [
       "<pre style=\"white-space:pre;overflow-x:auto;line-height:normal;font-family:Menlo,'DejaVu Sans Mono',consolas,'Courier New',monospace\"><span style=\"font-weight: bold\"> Non-trainable params: </span><span style=\"color: #00af00; text-decoration-color: #00af00\">0</span> (0.00 B)\n",
       "</pre>\n"
      ],
      "text/plain": [
       "\u001b[1m Non-trainable params: \u001b[0m\u001b[38;5;34m0\u001b[0m (0.00 B)\n"
      ]
     },
     "metadata": {},
     "output_type": "display_data"
    },
    {
     "data": {
      "text/html": [
       "<pre style=\"white-space:pre;overflow-x:auto;line-height:normal;font-family:Menlo,'DejaVu Sans Mono',consolas,'Courier New',monospace\"><span style=\"font-weight: bold\"> Optimizer params: </span><span style=\"color: #00af00; text-decoration-color: #00af00\">2</span> (12.00 B)\n",
       "</pre>\n"
      ],
      "text/plain": [
       "\u001b[1m Optimizer params: \u001b[0m\u001b[38;5;34m2\u001b[0m (12.00 B)\n"
      ]
     },
     "metadata": {},
     "output_type": "display_data"
    }
   ],
   "source": [
    "model = load_model('simple_rnn_imdb.h5')\n",
    "model.summary()"
   ]
  },
  {
   "cell_type": "code",
   "execution_count": 4,
   "metadata": {},
   "outputs": [
    {
     "data": {
      "text/plain": [
       "[array([[-0.09036852,  0.07095389,  0.07464042, ...,  0.01844823,\n",
       "          0.54327303,  0.09155815],\n",
       "        [ 0.00480042,  0.0271183 , -0.01164772, ...,  0.0256205 ,\n",
       "          0.02661632, -0.02026814],\n",
       "        [-0.04682541,  0.07556357,  0.10877934, ...,  0.06720829,\n",
       "         -0.02461356,  0.09186093],\n",
       "        ...,\n",
       "        [ 0.00226109,  0.0887887 , -0.02412767, ...,  0.0278025 ,\n",
       "         -0.05136678,  0.05438876],\n",
       "        [-0.00462463, -0.00620768, -0.01050435, ...,  0.00445476,\n",
       "          0.00417841, -0.05067583],\n",
       "        [-0.08355633,  0.07156836,  0.00157325, ...,  0.06442938,\n",
       "         -0.00987214,  0.06021401]], dtype=float32),\n",
       " array([[ 0.0600558 ,  0.00173697, -0.12119331, ..., -0.04743684,\n",
       "         -0.05665748,  0.06800107],\n",
       "        [ 0.10883252, -0.07242897,  0.02121365, ..., -0.05752418,\n",
       "          0.11591976,  0.13495056],\n",
       "        [-0.13235533,  0.11047244,  0.01267912, ..., -0.02001037,\n",
       "         -0.06632515,  0.08723066],\n",
       "        ...,\n",
       "        [ 0.07633541,  0.04653224,  0.06441294, ..., -0.00661898,\n",
       "          0.01292404,  0.07632691],\n",
       "        [ 0.0466846 ,  0.16389762,  0.02100162, ...,  0.18792823,\n",
       "          0.07439821, -0.17768513],\n",
       "        [-0.06972661, -0.14289455,  0.13308907, ..., -0.1448317 ,\n",
       "         -0.15405634,  0.0255693 ]], dtype=float32),\n",
       " array([[ 0.0170359 ,  0.01297986,  0.17500603, ..., -0.0321197 ,\n",
       "         -0.10407786, -0.2158069 ],\n",
       "        [-0.04643257,  0.12241875, -0.20411219, ..., -0.13313548,\n",
       "          0.11581214, -0.01710913],\n",
       "        [ 0.1422358 , -0.07920431,  0.04437381, ..., -0.07847667,\n",
       "          0.12288481,  0.01095937],\n",
       "        ...,\n",
       "        [ 0.00235462, -0.02279127,  0.09606257, ..., -0.12481008,\n",
       "         -0.03007767,  0.00636174],\n",
       "        [-0.14194052,  0.04835009,  0.07927483, ..., -0.01886512,\n",
       "          0.08047371,  0.08159767],\n",
       "        [-0.03634383, -0.11639582, -0.17164679, ...,  0.12011932,\n",
       "         -0.04014292, -0.05558516]], dtype=float32),\n",
       " array([-0.00385121, -0.02098268,  0.03041481, -0.0208178 ,  0.02874994,\n",
       "         0.02860701,  0.00301008, -0.00629948,  0.03331931, -0.02878821,\n",
       "        -0.00563581, -0.0363135 ,  0.0168015 ,  0.02596618, -0.02369599,\n",
       "        -0.01088193,  0.02126276,  0.00438718, -0.03346501, -0.01731225,\n",
       "         0.01659353,  0.02521657,  0.00327863,  0.02579409, -0.0040373 ,\n",
       "        -0.01332493, -0.02784935,  0.00966648, -0.02997369, -0.01384413,\n",
       "         0.02380973, -0.00102677, -0.00357072,  0.01694237, -0.01501259,\n",
       "         0.02308046, -0.01202   , -0.02081949, -0.02764506,  0.02749924,\n",
       "         0.01760214, -0.00229107,  0.01556418, -0.02110845,  0.00720956,\n",
       "         0.02180344, -0.01881194, -0.00103287,  0.00791393,  0.01290449,\n",
       "         0.02420408, -0.00063012,  0.0266545 ,  0.03665848, -0.00465332,\n",
       "         0.01007543,  0.02354616, -0.02712565,  0.01902397,  0.01169692,\n",
       "        -0.02660998,  0.02808952,  0.02217001, -0.03215291,  0.02438368,\n",
       "        -0.00181834, -0.01765244, -0.01430912,  0.04298045,  0.02352723,\n",
       "         0.00505882, -0.02691283,  0.02253262, -0.00816966,  0.03355971,\n",
       "        -0.02615002,  0.02551246, -0.01698917, -0.03703835, -0.01831984,\n",
       "         0.03664033,  0.00823295, -0.02146703,  0.01831285, -0.00823021,\n",
       "        -0.02606308, -0.005022  ,  0.02614098,  0.0213913 , -0.01884568,\n",
       "        -0.01667734, -0.05426151, -0.01479825,  0.02372413,  0.02640724,\n",
       "         0.02715542, -0.02750588,  0.02550348, -0.0491622 , -0.02347368,\n",
       "         0.02154798, -0.04232077, -0.0614558 , -0.02378399,  0.0082349 ,\n",
       "         0.00031348, -0.02997402, -0.00740035,  0.02388677,  0.02085629,\n",
       "        -0.0069336 ,  0.00822379, -0.02700853, -0.0126692 ,  0.02517502,\n",
       "        -0.01852869, -0.01465075, -0.02316005, -0.0150708 ,  0.0303931 ,\n",
       "         0.02200665,  0.01061149, -0.0241338 ,  0.00910083,  0.03215639,\n",
       "         0.00408425, -0.01253365,  0.03599522], dtype=float32),\n",
       " array([[-0.17502579],\n",
       "        [-0.03810668],\n",
       "        [ 0.21254034],\n",
       "        [ 0.06774249],\n",
       "        [-0.11811838],\n",
       "        [-0.09268533],\n",
       "        [ 0.12186275],\n",
       "        [ 0.03744213],\n",
       "        [-0.2582568 ],\n",
       "        [-0.03535706],\n",
       "        [-0.12501687],\n",
       "        [ 0.13814206],\n",
       "        [-0.1623479 ],\n",
       "        [ 0.08942833],\n",
       "        [ 0.03950641],\n",
       "        [-0.17521228],\n",
       "        [ 0.13784638],\n",
       "        [ 0.18400592],\n",
       "        [ 0.04262634],\n",
       "        [ 0.02203943],\n",
       "        [-0.01915444],\n",
       "        [ 0.11640288],\n",
       "        [-0.08267289],\n",
       "        [ 0.13809069],\n",
       "        [ 0.0580105 ],\n",
       "        [ 0.03650816],\n",
       "        [-0.15158547],\n",
       "        [ 0.01692109],\n",
       "        [ 0.22308265],\n",
       "        [-0.04295979],\n",
       "        [ 0.09263355],\n",
       "        [ 0.5018284 ],\n",
       "        [ 0.07898519],\n",
       "        [ 0.14038107],\n",
       "        [-0.04954353],\n",
       "        [ 0.11320626],\n",
       "        [-0.04054632],\n",
       "        [-0.08845115],\n",
       "        [-0.1288699 ],\n",
       "        [-0.05349998],\n",
       "        [-0.21372415],\n",
       "        [ 0.09060828],\n",
       "        [ 0.03401977],\n",
       "        [ 0.16865553],\n",
       "        [ 0.18368717],\n",
       "        [ 0.05157596],\n",
       "        [ 0.14615902],\n",
       "        [-0.15825142],\n",
       "        [ 0.08153878],\n",
       "        [ 0.08051927],\n",
       "        [-0.21420634],\n",
       "        [ 0.01458138],\n",
       "        [-0.04024152],\n",
       "        [ 0.14189424],\n",
       "        [-0.14674866],\n",
       "        [-0.10391349],\n",
       "        [ 0.20872758],\n",
       "        [-0.15286367],\n",
       "        [-0.04416558],\n",
       "        [-0.02535253],\n",
       "        [ 0.00524558],\n",
       "        [ 0.21936978],\n",
       "        [ 0.14958426],\n",
       "        [-0.14612068],\n",
       "        [ 0.22444244],\n",
       "        [-0.20370442],\n",
       "        [ 0.15448606],\n",
       "        [ 0.1537805 ],\n",
       "        [-0.0436465 ],\n",
       "        [ 0.15674415],\n",
       "        [ 0.13818723],\n",
       "        [ 0.15614286],\n",
       "        [ 0.12582496],\n",
       "        [-0.02663977],\n",
       "        [-0.19424322],\n",
       "        [-0.14411016],\n",
       "        [ 0.11742956],\n",
       "        [-0.04850053],\n",
       "        [-0.04140371],\n",
       "        [-0.09687214],\n",
       "        [ 0.09868511],\n",
       "        [-0.11910544],\n",
       "        [ 0.10661874],\n",
       "        [-0.2576392 ],\n",
       "        [ 0.1494097 ],\n",
       "        [ 0.23416814],\n",
       "        [-0.15954717],\n",
       "        [ 0.20525472],\n",
       "        [ 0.09604245],\n",
       "        [-0.10478528],\n",
       "        [-0.06702395],\n",
       "        [ 0.00719492],\n",
       "        [-0.02056188],\n",
       "        [ 0.22467743],\n",
       "        [-0.05875748],\n",
       "        [-0.19484511],\n",
       "        [ 0.04888847],\n",
       "        [ 0.0363395 ],\n",
       "        [ 0.10474432],\n",
       "        [ 0.18484452],\n",
       "        [ 0.03729574],\n",
       "        [-0.17081726],\n",
       "        [ 0.15050828],\n",
       "        [-0.0390111 ],\n",
       "        [-0.01952592],\n",
       "        [-0.04768472],\n",
       "        [-0.04292287],\n",
       "        [ 0.09311739],\n",
       "        [ 0.10773878],\n",
       "        [-0.12606367],\n",
       "        [-0.1502935 ],\n",
       "        [-0.08572125],\n",
       "        [ 0.03854925],\n",
       "        [-0.16966307],\n",
       "        [ 0.08076134],\n",
       "        [-0.11186944],\n",
       "        [ 0.19137911],\n",
       "        [-0.00067213],\n",
       "        [-0.18021595],\n",
       "        [-0.19120115],\n",
       "        [ 0.1799211 ],\n",
       "        [ 0.0493112 ],\n",
       "        [ 0.15898857],\n",
       "        [ 0.21659076],\n",
       "        [-0.00284283],\n",
       "        [-0.05180197],\n",
       "        [-0.03791579],\n",
       "        [-0.05549341]], dtype=float32),\n",
       " array([-0.7001797], dtype=float32)]"
      ]
     },
     "execution_count": 4,
     "metadata": {},
     "output_type": "execute_result"
    }
   ],
   "source": [
    "model.get_weights()"
   ]
  },
  {
   "cell_type": "code",
   "execution_count": 5,
   "metadata": {},
   "outputs": [],
   "source": [
    "# STep 2: Helper Functions\n",
    "# Function to decode reviews\n",
    "\n",
    "def decode_review(encoded_review):\n",
    "    return ' '.join([reverse_word_index.get(1,-3,'?') for i in encoded_review])\n",
    "\n",
    "# Funtion to preprocess user input\n",
    "def preprocess_text(text):\n",
    "    words = text.lower().split()\n",
    "    encoded_review = [word_index.get(word,2)+3 for word in words]\n",
    "    padded_review = sequence.pad_sequences([encoded_review], maxlen =500)\n",
    "    return padded_review"
   ]
  },
  {
   "cell_type": "code",
   "execution_count": 6,
   "metadata": {},
   "outputs": [],
   "source": [
    "### Prediction function\n",
    "\n",
    "def predict_sentiment(review):\n",
    "    preprocessed_input = preprocess_text(review)\n",
    "    prediction = model.predict(preprocessed_input)\n",
    "    sentiment = 'Positive' if prediction[0][0]>0.5 else 'Negative'\n",
    "    return sentiment, prediction[0][0]\n"
   ]
  },
  {
   "cell_type": "code",
   "execution_count": 8,
   "metadata": {},
   "outputs": [
    {
     "name": "stdout",
     "output_type": "stream",
     "text": [
      "\u001b[1m1/1\u001b[0m \u001b[32m━━━━━━━━━━━━━━━━━━━━\u001b[0m\u001b[37m\u001b[0m \u001b[1m0s\u001b[0m 148ms/step\n",
      "Review:This movie was fantastic! The acting was great and the plot was thrilling\n",
      "Sentiment: Positive\n",
      "Prediction Score: 0.7535673379898071\n"
     ]
    }
   ],
   "source": [
    "example_review = \"This movie was fantastic! The acting was great and the plot was thrilling\"\n",
    "sentiment , score = predict_sentiment(example_review)\n",
    "\n",
    "print(f'Review:{example_review}')\n",
    "print(f'Sentiment: {sentiment}')\n",
    "print(f'Prediction Score: {score}')"
   ]
  },
  {
   "cell_type": "code",
   "execution_count": null,
   "metadata": {},
   "outputs": [],
   "source": []
  }
 ],
 "metadata": {
  "kernelspec": {
   "display_name": "Python 3",
   "language": "python",
   "name": "python3"
  },
  "language_info": {
   "codemirror_mode": {
    "name": "ipython",
    "version": 3
   },
   "file_extension": ".py",
   "mimetype": "text/x-python",
   "name": "python",
   "nbconvert_exporter": "python",
   "pygments_lexer": "ipython3",
   "version": "3.12.0"
  }
 },
 "nbformat": 4,
 "nbformat_minor": 2
}
